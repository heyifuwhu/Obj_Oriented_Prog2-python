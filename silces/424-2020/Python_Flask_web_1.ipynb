{
 "cells": [
  {
   "cell_type": "code",
   "execution_count": null,
   "metadata": {
    "collapsed": false
   },
   "outputs": [],
   "source": [
    "from flask import Flask, render_template, request\n",
    "app = Flask(__name__)\n",
    "\n",
    "@app.route(\"/\")\n",
    "def main():\n",
    "    return \"Welcome to Python web\"\n",
    "\n",
    "@app.route(\"/ok\")\n",
    "def ok():\n",
    "    return \"You are great!\"\n",
    "\n",
    "@app.route(\"/reserve\", methods=['GET', 'POST'])\n",
    "def reserve():\n",
    "    return render_template(\"reservation.html\")\n",
    "\n",
    "@app.route(\"/results\", methods=['GET', 'POST'])\n",
    "def res():\n",
    "    if request.method == 'POST':\n",
    "        first_name = request.form.get('fname')\n",
    "        last_name = request.form.get('lname')\n",
    "        # get checkboxes. it is a list\n",
    "        estimators = request.form.getlist('estimator')\n",
    "    message = '<h1>Thank you {} {} </h1>'.format(first_name, last_name)\n",
    "    checked_estimator = ''\n",
    "    for i in estimators:\n",
    "        checked_estimator += i+' '\n",
    "        \n",
    "    message += '<h2 />You chose {}</h2>'.format(checked_estimator) \n",
    "    # handle radio button\n",
    "    how_to_load = request.form.get('howtoload')\n",
    "    if how_to_load == 'own':\n",
    "        mydata = request.form.get ('mydatasetname')\n",
    "        # we did not check if user really enter his/her own data set\n",
    "        load_file = '<h2>You loaded your own dataset {}</h2>'.format(mydata)\n",
    "    else:\n",
    "        # handle drop downlist\n",
    "        file_from_system = request.form.get('from_system')\n",
    "\n",
    "        load_file = '<h2>You loaded {} from system</h2>'.format(file_from_system)\n",
    "    message += load_file\n",
    "    \n",
    "    #get drop down of kfold\n",
    "    kfold = request.form.get('kfold')\n",
    "    message += '<h2> You chose {} fold cross validation</h2>'.format(kfold) \n",
    "    # get comments\n",
    "    comments = request.form.get('comments')\n",
    "    comments = '<h2>Your comments : {}</h2>'.format(comments) \n",
    "    return message + comments\n",
    "\n",
    "@app.route(\"/classify\")\n",
    "def classifier():\n",
    "    return render_template('machine_learning_classfier_interface.html', methods=['GET', 'POST'])\n",
    "    \n",
    "\n",
    "if __name__ == \"__main__\":\n",
    "    app.run()\n"
   ]
  },
  {
   "cell_type": "code",
   "execution_count": null,
   "metadata": {
    "collapsed": true
   },
   "outputs": [],
   "source": []
  },
  {
   "cell_type": "code",
   "execution_count": null,
   "metadata": {
    "collapsed": true
   },
   "outputs": [],
   "source": []
  }
 ],
 "metadata": {
  "kernelspec": {
   "display_name": "Python 3",
   "language": "python",
   "name": "python3"
  },
  "language_info": {
   "codemirror_mode": {
    "name": "ipython",
    "version": 3
   },
   "file_extension": ".py",
   "mimetype": "text/x-python",
   "name": "python",
   "nbconvert_exporter": "python",
   "pygments_lexer": "ipython3",
   "version": "3.6.0"
  }
 },
 "nbformat": 4,
 "nbformat_minor": 2
}
