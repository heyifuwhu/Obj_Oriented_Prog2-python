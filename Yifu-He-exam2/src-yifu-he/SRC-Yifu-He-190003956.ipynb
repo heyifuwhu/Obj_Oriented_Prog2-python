{
 "cells": [
  {
   "cell_type": "code",
   "execution_count": 28,
   "metadata": {},
   "outputs": [
    {
     "name": "stdout",
     "output_type": "stream",
     "text": [
      "For q1:\n",
      "   q1  q2  q3\n",
      "5  50  34  41\n",
      "4  40  36  10\n",
      "For q2:\n",
      "   q1  q2  q3\n",
      "1  15  51  45\n",
      "0  10  41  90\n",
      "For q3:\n",
      "   q1  q2   q3\n",
      "3  30  19  132\n",
      "0  10  41   90\n"
     ]
    }
   ],
   "source": [
    "import pandas as pd\n",
    "import numpy as np\n",
    "# SA1\n",
    "dic = {'q1': [10, 15, 20, 30, 40, 50], 'q2': [41, 51, 16, 19, 36, 34], 'q3': [90, 45, 67, 132, 10, 41]}\n",
    "df = pd.DataFrame(dic)\n",
    "print(\"For q1:\")\n",
    "print(df.sort_values(\"q1\",ascending=False).iloc[:2,:])\n",
    "print(\"For q2:\")\n",
    "print(df.sort_values(\"q2\",ascending=False).iloc[:2,:])\n",
    "print(\"For q3:\")\n",
    "print(df.sort_values(\"q3\",ascending=False).iloc[:2,:])"
   ]
  },
  {
   "cell_type": "code",
   "execution_count": 5,
   "metadata": {},
   "outputs": [
    {
     "data": {
      "text/html": [
       "<div>\n",
       "<style scoped>\n",
       "    .dataframe tbody tr th:only-of-type {\n",
       "        vertical-align: middle;\n",
       "    }\n",
       "\n",
       "    .dataframe tbody tr th {\n",
       "        vertical-align: top;\n",
       "    }\n",
       "\n",
       "    .dataframe thead th {\n",
       "        text-align: right;\n",
       "    }\n",
       "</style>\n",
       "<table border=\"1\" class=\"dataframe\">\n",
       "  <thead>\n",
       "    <tr style=\"text-align: right;\">\n",
       "      <th></th>\n",
       "      <th>q1</th>\n",
       "      <th>q3</th>\n",
       "    </tr>\n",
       "  </thead>\n",
       "  <tbody>\n",
       "    <tr>\n",
       "      <th>0</th>\n",
       "      <td>10</td>\n",
       "      <td>90</td>\n",
       "    </tr>\n",
       "    <tr>\n",
       "      <th>1</th>\n",
       "      <td>15</td>\n",
       "      <td>45</td>\n",
       "    </tr>\n",
       "    <tr>\n",
       "      <th>2</th>\n",
       "      <td>20</td>\n",
       "      <td>67</td>\n",
       "    </tr>\n",
       "    <tr>\n",
       "      <th>3</th>\n",
       "      <td>30</td>\n",
       "      <td>132</td>\n",
       "    </tr>\n",
       "    <tr>\n",
       "      <th>4</th>\n",
       "      <td>40</td>\n",
       "      <td>10</td>\n",
       "    </tr>\n",
       "    <tr>\n",
       "      <th>5</th>\n",
       "      <td>50</td>\n",
       "      <td>41</td>\n",
       "    </tr>\n",
       "  </tbody>\n",
       "</table>\n",
       "</div>"
      ],
      "text/plain": [
       "   q1   q3\n",
       "0  10   90\n",
       "1  15   45\n",
       "2  20   67\n",
       "3  30  132\n",
       "4  40   10\n",
       "5  50   41"
      ]
     },
     "execution_count": 5,
     "metadata": {},
     "output_type": "execute_result"
    }
   ],
   "source": [
    "# SA2\n",
    "dic = {'q1': [10, 15, 20, 30, 40, 50], 'q2': [41, 51, 16, 19, 36, 34], 'q3': [90, 45, 67, 132, 10, 41]}\n",
    "df = pd.DataFrame(dic)\n",
    "df.iloc[:,[0,2]]"
   ]
  },
  {
   "cell_type": "code",
   "execution_count": 30,
   "metadata": {},
   "outputs": [
    {
     "name": "stdout",
     "output_type": "stream",
     "text": [
      "original one:\n",
      "   q1  q2   q3\n",
      "0  10  41   90\n",
      "1  15  51   45\n",
      "2  20  16   67\n",
      "3  30  19  132\n",
      "4  40  36   10\n",
      "5  50  34   41\n",
      "\n",
      "after removing:\n",
      "   q1  q2   q3\n",
      "2  20  16   67\n",
      "3  30  19  132\n",
      "4  40  36   10\n",
      "5  50  34   41\n"
     ]
    }
   ],
   "source": [
    "# SA3\n",
    "dic = {'q1': [10, 15, 20, 30, 40, 50], 'q2': [41, 51, 16, 19, 36, 34], 'q3': [90, 45, 67, 132, 10, 41]}\n",
    "df = pd.DataFrame(dic)\n",
    "print(\"original one:\")\n",
    "print(df)\n",
    "df = df.iloc[2:,:]\n",
    "print(\"\\nafter removing:\")\n",
    "print(df)"
   ]
  },
  {
   "cell_type": "code",
   "execution_count": 9,
   "metadata": {},
   "outputs": [
    {
     "data": {
      "text/plain": [
       "array([[[ 0,  1,  2,  3],\n",
       "        [ 4,  5,  6,  7],\n",
       "        [ 8,  9, 10, 11]],\n",
       "\n",
       "       [[12, 13, 14, 15],\n",
       "        [16, 17, 18, 19],\n",
       "        [20, 21, 22, 23]]])"
      ]
     },
     "execution_count": 9,
     "metadata": {},
     "output_type": "execute_result"
    }
   ],
   "source": [
    "# SA4\n",
    "arr = np.arange(24).reshape(2,3,4)\n",
    "arr"
   ]
  },
  {
   "cell_type": "code",
   "execution_count": 14,
   "metadata": {},
   "outputs": [
    {
     "data": {
      "text/plain": [
       "array([ 4,  2,  3,  6, 10,  6,  1,  6,  4,  1,  3, 10,  1,  2,  3,  5,  4,\n",
       "       12,  6,  2])"
      ]
     },
     "execution_count": 14,
     "metadata": {},
     "output_type": "execute_result"
    }
   ],
   "source": [
    "# SA5\n",
    "np.random.randint(1,13,20)"
   ]
  },
  {
   "cell_type": "code",
   "execution_count": 32,
   "metadata": {},
   "outputs": [
    {
     "name": "stdout",
     "output_type": "stream",
     "text": [
      "Calculate according to all\n",
      "median:  13.5\n",
      "mean:  14.958333333333334\n",
      "\n",
      "Calculate according to column\n",
      "median:  [ 6.  15.  23.5 15.  18.   6. ]\n",
      "mean:  [ 6.   15.5  21.25 20.   18.5   8.5 ]\n",
      "\n",
      "Calculate according to row\n",
      "median:  [ 7.  11.  17.  23.5]\n",
      "mean:  [ 8.83333333 13.16666667 15.         22.83333333]\n"
     ]
    }
   ],
   "source": [
    "# SA6\n",
    "arr = np.array([[ 3, 14, 5, 6, 17, 8], [9,10,31,12,13, 4], [ 1, 16, 16, 18, 19, 20],[11, 22, 33, 44, 25,  2]])\n",
    "\n",
    "print(\"Calculate according to all\")\n",
    "print(\"median: \", np.median(arr))\n",
    "print(\"mean: \",np.mean(arr))\n",
    "print(\"\\nCalculate according to column\")\n",
    "print(\"median: \", np.median(arr,axis=0))\n",
    "print(\"mean: \",np.mean(arr,axis=0))\n",
    "print(\"\\nCalculate according to row\")\n",
    "print(\"median: \", np.median(arr,axis=1))\n",
    "print(\"mean: \",np.mean(arr,axis=1))"
   ]
  },
  {
   "cell_type": "code",
   "execution_count": null,
   "metadata": {},
   "outputs": [],
   "source": []
  }
 ],
 "metadata": {
  "kernelspec": {
   "display_name": "Python 3",
   "language": "python",
   "name": "python3"
  },
  "language_info": {
   "codemirror_mode": {
    "name": "ipython",
    "version": 3
   },
   "file_extension": ".py",
   "mimetype": "text/x-python",
   "name": "python",
   "nbconvert_exporter": "python",
   "pygments_lexer": "ipython3",
   "version": "3.7.6"
  }
 },
 "nbformat": 4,
 "nbformat_minor": 4
}
