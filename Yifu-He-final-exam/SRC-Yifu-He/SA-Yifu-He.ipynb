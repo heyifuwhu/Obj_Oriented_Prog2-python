{
 "cells": [
  {
   "cell_type": "code",
   "execution_count": 34,
   "metadata": {},
   "outputs": [
    {
     "name": "stdout",
     "output_type": "stream",
     "text": [
      "[1, 4, 9, 16, 18, 22, 28, 36]\n"
     ]
    }
   ],
   "source": [
    "# SA1\n",
    "def prefix_sum(arr):\n",
    "    for i in range(1,len(arr)):\n",
    "        arr[i] += arr[i-1]\n",
    "    return arr\n",
    "a = [1,3,5,7,2,4,6,8]\n",
    "print(prefix_sum(a))"
   ]
  },
  {
   "cell_type": "code",
   "execution_count": 35,
   "metadata": {},
   "outputs": [
    {
     "data": {
      "text/plain": [
       "[(0, 0), (1, 1), (2, 4), (3, 9), (4, 16)]"
      ]
     },
     "execution_count": 35,
     "metadata": {},
     "output_type": "execute_result"
    }
   ],
   "source": [
    "# SA2\n",
    "[(i,i*i) for i in range(5)]"
   ]
  },
  {
   "cell_type": "code",
   "execution_count": 36,
   "metadata": {},
   "outputs": [],
   "source": [
    "# SA3\n",
    "# a n\n",
    "# b nlog(n)"
   ]
  },
  {
   "cell_type": "code",
   "execution_count": 38,
   "metadata": {},
   "outputs": [
    {
     "data": {
      "text/plain": [
       "[1, 2, 3, 4, 5, 6, 7, 8]"
      ]
     },
     "execution_count": 38,
     "metadata": {},
     "output_type": "execute_result"
    }
   ],
   "source": [
    "# SA4\n",
    "def upique_and_sorted(s):\n",
    "    d = {}\n",
    "    for i in s:\n",
    "        if i not in d:\n",
    "            d[i]=0\n",
    "    res = list(d.keys())\n",
    "    res.sort()\n",
    "    return res\n",
    "upique_and_sorted([1,3,5,3,4,6,7,8,2,3,4])"
   ]
  },
  {
   "cell_type": "code",
   "execution_count": 6,
   "metadata": {},
   "outputs": [
    {
     "name": "stdout",
     "output_type": "stream",
     "text": [
      "1664\n",
      "1317261742621463123234288924400109075146188\n"
     ]
    }
   ],
   "source": [
    "# SA5\n",
    "def dict1(func):\n",
    "    D = {0:0,1:1,2:2}\n",
    "    def _decorator(param):\n",
    "        if param in D:\n",
    "            return D[param]\n",
    "        else:\n",
    "            D[param] = _decorator(param-1) + _decorator(param - 2) + _decorator(param//2)\n",
    "            return D[param]\n",
    "    return _decorator    \n",
    "@dict1\n",
    "def f(n):\n",
    "    if n ==0:\n",
    "        return 0\n",
    "    elif n == 1:\n",
    "        return 1\n",
    "    elif n == 2:\n",
    "        return 2\n",
    "    else:\n",
    "        return f(n-1) + f(n-2)+f(n//2)\n",
    "print(f(14))\n",
    "print(f(200))"
   ]
  },
  {
   "cell_type": "code",
   "execution_count": 52,
   "metadata": {},
   "outputs": [
    {
     "name": "stdout",
     "output_type": "stream",
     "text": [
      "Enter a sentence: He ended his speech saying 'Your team completed the project beautifully'\n",
      "The word ended with ed are here\n",
      "ended\n",
      "completed\n"
     ]
    }
   ],
   "source": [
    "# SA6\n",
    "# He ended his speech saying 'Your team completed the project beautifully'\n",
    "def q6():\n",
    "    temp = input(\"Enter a sentence: \")\n",
    "    L = temp.split(\" \")\n",
    "    res = []\n",
    "    for i in L:\n",
    "        if i[-2:] == \"ed\":\n",
    "            res.append(i)\n",
    "    print(\"The word ended with ed are here\")\n",
    "    for ele in res:\n",
    "        print(ele)\n",
    "q6()"
   ]
  },
  {
   "cell_type": "code",
   "execution_count": 59,
   "metadata": {},
   "outputs": [
    {
     "name": "stdout",
     "output_type": "stream",
     "text": [
      "The 2 by 3 array is \n",
      "[[ 1  2  4]\n",
      " [ 8 16 32]]\n",
      "The flatten array is\n",
      "[ 1  2  4  8 16 32]\n"
     ]
    }
   ],
   "source": [
    "# SA7\n",
    "print(\"The 2 by 3 array is \")\n",
    "res = np.array([2**i for i in range(6)]).reshape(2,3)\n",
    "print(res)\n",
    "print(\"The flatten array is\")\n",
    "print(res.reshape(-1))"
   ]
  },
  {
   "cell_type": "code",
   "execution_count": 1,
   "metadata": {},
   "outputs": [
    {
     "name": "stdout",
     "output_type": "stream",
     "text": [
      "WORD\t\tCOUNT\n",
      "this \t\t 2\n",
      "is \t\t 2\n",
      "sample \t\t 2\n",
      "text \t\t 2\n",
      "with \t\t 2\n",
      "words \t\t 2\n"
     ]
    }
   ],
   "source": [
    "def q8(sentence):\n",
    "    L = sentence.split(\" \")\n",
    "    res = {}\n",
    "    for i in L:\n",
    "        i = i.lower()\n",
    "        if i in res:\n",
    "            res[i] +=1\n",
    "        else:\n",
    "            res[i] = 1\n",
    "    print(\"WORD\\t\\tCOUNT\")\n",
    "    for key,value in res.items():\n",
    "        if value >=2:\n",
    "            print(key,\"\\t\\t\",value)\n",
    "q8(\"this is sample text with several words this is more sample text with some different words\")"
   ]
  },
  {
   "cell_type": "code",
   "execution_count": null,
   "metadata": {},
   "outputs": [],
   "source": []
  },
  {
   "cell_type": "code",
   "execution_count": null,
   "metadata": {},
   "outputs": [],
   "source": []
  }
 ],
 "metadata": {
  "kernelspec": {
   "display_name": "Python 3",
   "language": "python",
   "name": "python3"
  },
  "language_info": {
   "codemirror_mode": {
    "name": "ipython",
    "version": 3
   },
   "file_extension": ".py",
   "mimetype": "text/x-python",
   "name": "python",
   "nbconvert_exporter": "python",
   "pygments_lexer": "ipython3",
   "version": "3.7.6"
  }
 },
 "nbformat": 4,
 "nbformat_minor": 4
}
