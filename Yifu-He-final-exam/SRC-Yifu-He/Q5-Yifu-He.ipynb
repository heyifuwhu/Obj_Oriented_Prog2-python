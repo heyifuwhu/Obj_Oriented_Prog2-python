{
 "cells": [
  {
   "cell_type": "code",
   "execution_count": 2,
   "metadata": {},
   "outputs": [],
   "source": [
    "import pandas as pd\n",
    "import numpy as np\n",
    "import matplotlib.pyplot as plt\n",
    "%matplotlib inline\n",
    "import datetime\n",
    "_dt = datetime.datetime\n",
    "# define the function to change the format of date\n",
    "def format_time(str_obj):\n",
    "    return datetime.datetime.strptime(str_obj,\"%m/%d/%Y %H:%M\")"
   ]
  },
  {
   "cell_type": "code",
   "execution_count": 3,
   "metadata": {},
   "outputs": [
    {
     "data": {
      "text/html": [
       "<div>\n",
       "<style scoped>\n",
       "    .dataframe tbody tr th:only-of-type {\n",
       "        vertical-align: middle;\n",
       "    }\n",
       "\n",
       "    .dataframe tbody tr th {\n",
       "        vertical-align: top;\n",
       "    }\n",
       "\n",
       "    .dataframe thead th {\n",
       "        text-align: right;\n",
       "    }\n",
       "</style>\n",
       "<table border=\"1\" class=\"dataframe\">\n",
       "  <thead>\n",
       "    <tr style=\"text-align: right;\">\n",
       "      <th></th>\n",
       "      <th>date</th>\n",
       "      <th>Daily</th>\n",
       "      <th>20 days</th>\n",
       "      <th>50 days</th>\n",
       "      <th>200 days</th>\n",
       "    </tr>\n",
       "  </thead>\n",
       "  <tbody>\n",
       "    <tr>\n",
       "      <th>0</th>\n",
       "      <td>2009-02-02</td>\n",
       "      <td>7.36</td>\n",
       "      <td>NaN</td>\n",
       "      <td>NaN</td>\n",
       "      <td>NaN</td>\n",
       "    </tr>\n",
       "    <tr>\n",
       "      <th>1</th>\n",
       "      <td>2009-02-03</td>\n",
       "      <td>7.69</td>\n",
       "      <td>NaN</td>\n",
       "      <td>NaN</td>\n",
       "      <td>NaN</td>\n",
       "    </tr>\n",
       "    <tr>\n",
       "      <th>2</th>\n",
       "      <td>2009-02-04</td>\n",
       "      <td>7.64</td>\n",
       "      <td>NaN</td>\n",
       "      <td>NaN</td>\n",
       "      <td>NaN</td>\n",
       "    </tr>\n",
       "    <tr>\n",
       "      <th>3</th>\n",
       "      <td>2009-02-05</td>\n",
       "      <td>7.88</td>\n",
       "      <td>NaN</td>\n",
       "      <td>NaN</td>\n",
       "      <td>NaN</td>\n",
       "    </tr>\n",
       "    <tr>\n",
       "      <th>4</th>\n",
       "      <td>2009-02-06</td>\n",
       "      <td>8.21</td>\n",
       "      <td>NaN</td>\n",
       "      <td>NaN</td>\n",
       "      <td>NaN</td>\n",
       "    </tr>\n",
       "    <tr>\n",
       "      <th>...</th>\n",
       "      <td>...</td>\n",
       "      <td>...</td>\n",
       "      <td>...</td>\n",
       "      <td>...</td>\n",
       "      <td>...</td>\n",
       "    </tr>\n",
       "    <tr>\n",
       "      <th>351</th>\n",
       "      <td>2010-06-24</td>\n",
       "      <td>10.99</td>\n",
       "      <td>11.1420</td>\n",
       "      <td>12.0036</td>\n",
       "      <td>13.31720</td>\n",
       "    </tr>\n",
       "    <tr>\n",
       "      <th>352</th>\n",
       "      <td>2010-06-25</td>\n",
       "      <td>11.11</td>\n",
       "      <td>11.1125</td>\n",
       "      <td>11.9432</td>\n",
       "      <td>13.30980</td>\n",
       "    </tr>\n",
       "    <tr>\n",
       "      <th>353</th>\n",
       "      <td>2010-06-28</td>\n",
       "      <td>10.91</td>\n",
       "      <td>11.0820</td>\n",
       "      <td>11.8868</td>\n",
       "      <td>13.30125</td>\n",
       "    </tr>\n",
       "    <tr>\n",
       "      <th>354</th>\n",
       "      <td>2010-06-29</td>\n",
       "      <td>10.23</td>\n",
       "      <td>11.0400</td>\n",
       "      <td>11.8206</td>\n",
       "      <td>13.28855</td>\n",
       "    </tr>\n",
       "    <tr>\n",
       "      <th>355</th>\n",
       "      <td>2010-06-30</td>\n",
       "      <td>9.96</td>\n",
       "      <td>10.9700</td>\n",
       "      <td>11.7484</td>\n",
       "      <td>13.27475</td>\n",
       "    </tr>\n",
       "  </tbody>\n",
       "</table>\n",
       "<p>356 rows × 5 columns</p>\n",
       "</div>"
      ],
      "text/plain": [
       "          date  Daily  20 days  50 days  200 days\n",
       "0   2009-02-02   7.36      NaN      NaN       NaN\n",
       "1   2009-02-03   7.69      NaN      NaN       NaN\n",
       "2   2009-02-04   7.64      NaN      NaN       NaN\n",
       "3   2009-02-05   7.88      NaN      NaN       NaN\n",
       "4   2009-02-06   8.21      NaN      NaN       NaN\n",
       "..         ...    ...      ...      ...       ...\n",
       "351 2010-06-24  10.99  11.1420  12.0036  13.31720\n",
       "352 2010-06-25  11.11  11.1125  11.9432  13.30980\n",
       "353 2010-06-28  10.91  11.0820  11.8868  13.30125\n",
       "354 2010-06-29  10.23  11.0400  11.8206  13.28855\n",
       "355 2010-06-30   9.96  10.9700  11.7484  13.27475\n",
       "\n",
       "[356 rows x 5 columns]"
      ]
     },
     "execution_count": 3,
     "metadata": {},
     "output_type": "execute_result"
    }
   ],
   "source": [
    "path = \"/Users/yifuhe/Desktop/Yifu-He-final-exam/stock.csv\"\n",
    "data = pd.read_csv(path)\n",
    "start = data[data[\"date\"] == \"2/2/2009 0:00\"].index[0]\n",
    "end = data[data[\"date\"] == \"6/30/2010 0:00\"].index[0]\n",
    "data = data.loc[start:end,:].reset_index().drop(\"index\",axis=1)\n",
    "data[\"date\"]=data[\"date\"].apply(format_time)\n",
    "data[\"20 days\"]=data[\"AA\"].rolling(20).mean()\n",
    "data[\"50 days\"]=data[\"AA\"].rolling(50).mean()\n",
    "data[\"200 days\"] = data[\"AA\"].rolling(200).mean()\n",
    "new_data = data.rename(columns={\"AA\":\"Daily\"})\n",
    "new_data"
   ]
  },
  {
   "cell_type": "code",
   "execution_count": 5,
   "metadata": {},
   "outputs": [
    {
     "data": {
      "image/png": "[encoded data removed]",
      "text/plain": [
       "<Figure size 432x288 with 1 Axes>"
      ]
     },
     "metadata": {
      "needs_background": "light"
     },
     "output_type": "display_data"
    }
   ],
   "source": [
    "plt.plot(data[\"date\"],new_data[\"Daily\"],color = \"black\",label=\"Daily\")\n",
    "plt.plot(data[\"date\"],data[\"20 days\"],color = \"red\",label=\"20 days\")\n",
    "plt.plot(data[\"date\"],data[\"50 days\"],color = \"green\",label = \"50 days\")\n",
    "plt.plot(data[\"date\"],data[\"200 days\"],color = \"blue\",label=\"200 days\")\n",
    "plt.title(\"AA Stock\")\n",
    "plt.xlabel(\"date\")\n",
    "plt.ylabel(\"Price\")\n",
    "plt.legend(loc = \"upper left\")\n",
    "#my_x_ticks = [_dt(2009,i,1) for i in range(3,12,2)]+[_dt(2010,i,1) for i in range(1,6,2)]\n",
    "#plt.xticks(my_x_ticks,rotation = 45)\n",
    "#plt.xlim((\"2019.03\",\"2010.05\"))\n",
    "plt.show()"
   ]
  },
  {
   "cell_type": "code",
   "execution_count": null,
   "metadata": {},
   "outputs": [],
   "source": []
  },
  {
   "cell_type": "code",
   "execution_count": null,
   "metadata": {},
   "outputs": [],
   "source": []
  },
  {
   "cell_type": "code",
   "execution_count": null,
   "metadata": {},
   "outputs": [],
   "source": []
  },
  {
   "cell_type": "code",
   "execution_count": null,
   "metadata": {},
   "outputs": [],
   "source": []
  }
 ],
 "metadata": {
  "kernelspec": {
   "display_name": "Python 3",
   "language": "python",
   "name": "python3"
  },
  "language_info": {
   "codemirror_mode": {
    "name": "ipython",
    "version": 3
   },
   "file_extension": ".py",
   "mimetype": "text/x-python",
   "name": "python",
   "nbconvert_exporter": "python",
   "pygments_lexer": "ipython3",
   "version": "3.7.6"
  }
 },
 "nbformat": 4,
 "nbformat_minor": 4
}
